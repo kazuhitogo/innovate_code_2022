{
 "cells": [
  {
   "cell_type": "code",
   "execution_count": null,
   "id": "e1f11f55",
   "metadata": {},
   "outputs": [],
   "source": [
    "import sagemaker\n",
    "BUCKET = sagemaker.session.Session().default_bucket()"
   ]
  },
  {
   "cell_type": "markdown",
   "id": "0aff332a",
   "metadata": {},
   "source": [
    "## Amazon Polly"
   ]
  },
  {
   "cell_type": "markdown",
   "id": "3108fe88",
   "metadata": {},
   "source": [
    "### synthesize_speech"
   ]
  },
  {
   "cell_type": "code",
   "execution_count": null,
   "id": "efa7d82e",
   "metadata": {},
   "outputs": [],
   "source": [
    "import boto3\n",
    "polly = boto3.client('polly')\n",
    "response = polly.synthesize_speech(\n",
    "    # 作成する音声の文\n",
    "    Text = '''\n",
    "    はじめて Amazon Polly で音声を作成しました。\n",
    "    ''',\n",
    "    OutputFormat = \"mp3\", # 出力形式を選択\n",
    "    VoiceId = 'Takumi', # 声を選択\n",
    ")\n",
    "# 音声データをファイルに出力する\n",
    "with open('./first_voice.mp3', \"wb\") as f:\n",
    "    f.write(response['AudioStream'].read())"
   ]
  },
  {
   "cell_type": "markdown",
   "id": "92427b5a",
   "metadata": {},
   "source": [
    "### SSML"
   ]
  },
  {
   "cell_type": "code",
   "execution_count": null,
   "id": "6a1e6935",
   "metadata": {},
   "outputs": [],
   "source": [
    "response = polly.synthesize_speech(\n",
    "    Text = '''\n",
    "    <speak>\n",
    "        <amazon:breath duration=\"medium\" volume=\"x-loud\"/>\n",
    "　　　　私は <break time=\"1s\"/>\n",
    "　　　　<emphasis>SSML</emphasis>\n",
    "　　　　で音声を作成しました\n",
    "    </speak>\n",
    "    ''',\n",
    "    OutputFormat = \"mp3\", \n",
    "    TextType='ssml', # SSML であることを明示する\n",
    "    VoiceId = 'Takumi', # 声を選択\n",
    ")\n",
    "with open('./ssml_voice.mp3', \"wb\") as f:\n",
    "    f.write(response['AudioStream'].read())"
   ]
  },
  {
   "cell_type": "markdown",
   "id": "ab5ec001",
   "metadata": {},
   "source": [
    "### Lexicon"
   ]
  },
  {
   "cell_type": "code",
   "execution_count": null,
   "id": "e5238947",
   "metadata": {},
   "outputs": [],
   "source": [
    "LEXICON_NAME = 'emacs'\n",
    "CONTENT = '''<?xml version=\"1.0\" encoding=\"UTF-8\"?>\n",
    "<lexicon version=\"1.0\"\n",
    "      xmlns=\"http://www.w3.org/2005/01/pronunciation-lexicon\"\n",
    "      xmlns:xsi=\"http://www.w3.org/2001/XMLSchema-instance\"\n",
    "      xsi:schemaLocation=\"http://www.w3.org/2005/01/pronunciation-lexicon\n",
    "        http://www.w3.org/TR/2007/CR-pronunciation-lexicon-20071212/pls.xsd\"\n",
    "      alphabet=\"ipa\"\n",
    "      xml:lang=\"ja-JP\">\n",
    "  <lexeme><grapheme>テキストエディタ</grapheme><phoneme>ˈiːˌmæks</phoneme></lexeme>\n",
    "</lexicon>'''\n",
    "response = polly.put_lexicon(Content=CONTENT,Name=LEXICON_NAME)"
   ]
  },
  {
   "cell_type": "code",
   "execution_count": null,
   "id": "087f5e99",
   "metadata": {},
   "outputs": [],
   "source": [
    "# polly.delete_lexicon(Name=LEXICON_NAME)"
   ]
  },
  {
   "cell_type": "code",
   "execution_count": null,
   "id": "e79becd7",
   "metadata": {},
   "outputs": [],
   "source": [
    "response = polly.synthesize_speech(\n",
    "    Text = 'テキストエディタを開きましょう',\n",
    "    OutputFormat = \"mp3\",\n",
    "    VoiceId = 'Takumi',\n",
    "    LexiconNames=[LEXICON_NAME]\n",
    ")\n",
    "with open('./emacs.mp3', \"wb\") as f:\n",
    "    f.write(response['AudioStream'].read())\n",
    "\n",
    "response = polly.synthesize_speech(\n",
    "    Text = 'テキストエディタを開きましょう',\n",
    "    OutputFormat = \"mp3\",\n",
    "    VoiceId = 'Takumi',\n",
    ")\n",
    "with open('./text_editor.mp3', \"wb\") as f:\n",
    "    f.write(response['AudioStream'].read())"
   ]
  },
  {
   "cell_type": "markdown",
   "id": "d01544f9",
   "metadata": {},
   "source": [
    "## Amazon Transcribe"
   ]
  },
  {
   "cell_type": "markdown",
   "id": "15610b16",
   "metadata": {},
   "source": [
    "### start_transcription_job"
   ]
  },
  {
   "cell_type": "code",
   "execution_count": null,
   "id": "44d50ed8",
   "metadata": {},
   "outputs": [],
   "source": [
    "# transcribe = boto3.client('transcribe')\n",
    "# JOBNAME = 'my_first_transcription_job'\n",
    "# transcribe.delete_transcription_job(TranscriptionJobName=JOBNAME)"
   ]
  },
  {
   "cell_type": "code",
   "execution_count": null,
   "id": "dd5f4128",
   "metadata": {},
   "outputs": [],
   "source": [
    "# 事前に音声ファイルを S3 にアップロード\n",
    "s3 = boto3.client('s3') \n",
    "AUDIO_FILE='emacs.mp3'\n",
    "AUDIO_KEY = f'transcribe/input/{AUDIO_FILE}'\n",
    "s3.upload_file(f'./{AUDIO_FILE}', BUCKET, AUDIO_KEY)\n",
    "\n",
    "# transcription job の起動\n",
    "transcribe = boto3.client('transcribe')\n",
    "JOBNAME = 'my_first_transcription_job'\n",
    "OUTPUT_KEY='transcribe/output/'\n",
    "response = transcribe.start_transcription_job(\n",
    "    TranscriptionJobName=JOBNAME,\n",
    "    LanguageCode='ja-JP',\n",
    "    Media={    'MediaFileUri': f's3://{BUCKET}/{AUDIO_KEY}'},\n",
    "    OutputBucketName=BUCKET,\n",
    "    OutputKey=OUTPUT_KEY,\n",
    ")\n"
   ]
  },
  {
   "cell_type": "code",
   "execution_count": null,
   "id": "d28ef975",
   "metadata": {},
   "outputs": [],
   "source": [
    "# Job が完了するまで待つ\n",
    "from time import sleep\n",
    "while True:\n",
    "    if transcribe.get_transcription_job(TranscriptionJobName=JOBNAME)['TranscriptionJob']['TranscriptionJobStatus']=='COMPLETED':break\n",
    "    else:sleep(5)"
   ]
  },
  {
   "cell_type": "code",
   "execution_count": null,
   "id": "a91d65c6",
   "metadata": {},
   "outputs": [],
   "source": [
    "# 結果が格納されている URI の取得\n",
    "# transcript_result_uri = transcribe.get_transcription_job(\n",
    "# TranscriptionJobName=JOBNAME\n",
    "# )['TranscriptionJob']['Transcript']['TranscriptFileUri']\n",
    "\n",
    "# S3 から手元の環境にダウンロード\n",
    "boto3.client('s3').download_file(BUCKET, f'{OUTPUT_KEY}{JOBNAME}.json', f'./{JOBNAME}.json')\n",
    "# 結果の表示\n",
    "with open(f'./{JOBNAME}.json','r') as f:print(f.read())\n"
   ]
  },
  {
   "cell_type": "markdown",
   "id": "6b4e2fd9",
   "metadata": {},
   "source": [
    "### create_vocabulary"
   ]
  },
  {
   "cell_type": "code",
   "execution_count": null,
   "id": "34baaa5f",
   "metadata": {},
   "outputs": [],
   "source": [
    "# 語彙 tsv の作成\n",
    "CUSTOM_VOCABULARY = 'Phrase\\tIPA\\tSoundsLike\\tDisplayAs\\nemacs\\t\\tiimakkusu\\tEmacs'\n",
    "CUSTOM_VOCABULARY_CSV = './custom_vocabulary.txt'\n",
    "with open(CUSTOM_VOCABULARY_CSV,'w') as f:f.write(CUSTOM_VOCABULARY)\n",
    "\n",
    "# 語彙の登録\n",
    "VOCABULARY_NAME = 'emacs'\n",
    "VOCABULARY_KEY = f'transcribe/custom_vocaburary/{CUSTOM_VOCABULARY_CSV}'\n",
    "s3.upload_file(f'./{CUSTOM_VOCABULARY_CSV}', BUCKET, VOCABULARY_KEY)\n",
    "transcribe.create_vocabulary(\n",
    "    VocabularyName=VOCABULARY_NAME,\n",
    "    LanguageCode='ja-JP',\n",
    "    VocabularyFileUri=f's3://{BUCKET}/{VOCABULARY_KEY}'\n",
    ")\n"
   ]
  },
  {
   "cell_type": "code",
   "execution_count": null,
   "id": "792f7649",
   "metadata": {},
   "outputs": [],
   "source": [
    "# transcribe.delete_vocabulary(VocabularyName=VOCABULARY_NAME)"
   ]
  },
  {
   "cell_type": "code",
   "execution_count": null,
   "id": "b8c938d6",
   "metadata": {},
   "outputs": [],
   "source": [
    "# 登録した語彙を利用した transcription job の起動\u000b",
    "\n",
    "JOBNAME = 'custom_vocabulary_transcription_job'\n",
    "response = transcribe.start_transcription_job(\n",
    "    TranscriptionJobName=JOBNAME,\n",
    "    LanguageCode='ja-JP',\n",
    "    Settings={'VocabularyName': VOCABULARY_NAME},\n",
    "    Media={'MediaFileUri': f's3://{BUCKET}/{AUDIO_KEY}'},\n",
    "    OutputBucketName=BUCKET,\n",
    "    OutputKey=OUTPUT_KEY\n",
    ")\n",
    "# 結果の確認 (省略)"
   ]
  },
  {
   "cell_type": "code",
   "execution_count": null,
   "id": "26ce1660",
   "metadata": {
    "scrolled": true
   },
   "outputs": [],
   "source": [
    "# 終わるまで待機\n",
    "while True:\n",
    "    if transcribe.get_transcription_job(TranscriptionJobName=JOBNAME)['TranscriptionJob']['TranscriptionJobStatus']=='COMPLETED':break\n",
    "    else:sleep(5)"
   ]
  },
  {
   "cell_type": "code",
   "execution_count": null,
   "id": "c27017b2",
   "metadata": {},
   "outputs": [],
   "source": [
    "transcript_result_uri = transcribe.get_transcription_job(TranscriptionJobName=JOBNAME)['TranscriptionJob']['Transcript']['TranscriptFileUri']\n",
    "boto3.client('s3').download_file(BUCKET, f'{OUTPUT_KEY}{JOBNAME}.json', f'./{JOBNAME}.json')\n",
    "with open(f'./{JOBNAME}.json','r') as f:print(f.read())"
   ]
  },
  {
   "cell_type": "markdown",
   "id": "f018b006",
   "metadata": {},
   "source": [
    "## Amazon Translate"
   ]
  },
  {
   "cell_type": "markdown",
   "id": "8d564c31",
   "metadata": {},
   "source": [
    "### translate_text"
   ]
  },
  {
   "cell_type": "code",
   "execution_count": null,
   "id": "4d9c09cc",
   "metadata": {},
   "outputs": [],
   "source": [
    "translate = boto3.client('translate')\n",
    "\n",
    "# 翻訳実行\n",
    "response = translate.translate_text(\n",
    "    # 翻訳させたい文字列\n",
    "    Text='I use white vaseline daily to protect my skin.',\n",
    "    # 翻訳元の言語\n",
    "    SourceLanguageCode='en',\n",
    "    # 翻訳したい言語\n",
    "    TargetLanguageCode='ja',\n",
    "    # 好ましくない用語をマスクする機能\u000b",
    "    # Settings={\n",
    "    #     'Profanity': 'MASK'\n",
    "    # }\n",
    ")\n",
    "# 結果出力\n",
    "print(response['TranslatedText'])\n"
   ]
  },
  {
   "cell_type": "markdown",
   "id": "8f2d04c1",
   "metadata": {},
   "source": [
    "### import_terminologies"
   ]
  },
  {
   "cell_type": "code",
   "execution_count": null,
   "id": "a131428a",
   "metadata": {},
   "outputs": [],
   "source": [
    "# terminologies の登録\n",
    "TERMINOLOGIES = 'en,ja\\nwhite vaseline,白色ワセリン'.encode()\n",
    "TERMINOLOGIES_NAME = 'white_vaseline'\n",
    "translate.import_terminology(\n",
    "    Name=TERMINOLOGIES_NAME,\n",
    "    MergeStrategy='OVERWRITE',\n",
    "    TerminologyData={\n",
    "    'File': TERMINOLOGIES,\n",
    "    'Format': 'CSV',\n",
    "    }\n",
    ")\n",
    "\n",
    "# 翻訳実行\n",
    "response = translate.translate_text(\n",
    "    Text='I use white vaseline daily to protect my skin.',\n",
    "    # terminology の指定\n",
    "    TerminologyNames=[TERMINOLOGIES_NAME],\n",
    "    SourceLanguageCode='en',\n",
    "    TargetLanguageCode='ja',\n",
    ")\n",
    "\n",
    "# 結果出力\n",
    "print(response['TranslatedText'])\n"
   ]
  },
  {
   "cell_type": "markdown",
   "id": "f566706e",
   "metadata": {},
   "source": [
    "## Amazon Comprehend"
   ]
  },
  {
   "cell_type": "markdown",
   "id": "632b0de6",
   "metadata": {},
   "source": [
    "### detect_dominant_language"
   ]
  },
  {
   "cell_type": "code",
   "execution_count": null,
   "id": "ecfe5479",
   "metadata": {},
   "outputs": [],
   "source": [
    "comprehend = boto3.client('comprehend')\n",
    "\n",
    "# 使用するテキスト\n",
    "TEXT = 'Toutes les grandes personnes ont d’abord été des enfants, mais peu d’entre elles s’en souviennent.'\n",
    "\n",
    "# 未知の言語のテキストを翻訳する\n",
    "response = translate.translate_text(\n",
    "    Text=TEXT,\n",
    "    # 未知の言語を detect_dominant_language API で特定する\n",
    "    SourceLanguageCode=comprehend.detect_dominant_language(Text=TEXT)['Languages'][0]['LanguageCode'],\n",
    "    TargetLanguageCode='ja',\n",
    ")\n",
    "# 翻訳結果の表示\n",
    "print(response['TranslatedText'])\n"
   ]
  },
  {
   "cell_type": "markdown",
   "id": "5b0755f9",
   "metadata": {},
   "source": [
    "### detect_entities"
   ]
  },
  {
   "cell_type": "code",
   "execution_count": null,
   "id": "56917fef",
   "metadata": {},
   "outputs": [],
   "source": [
    "# 使用するテキスト\n",
    "TEXT = '今日、太郎はラーメンを食べました。おいしかったそうです。'\n",
    "\n",
    "# エンティティの検出\n",
    "response = comprehend.detect_entities(\n",
    "    Text=TEXT,\n",
    "    LanguageCode='ja',\n",
    ")\n",
    "print(response['Entities'])\n",
    "\n",
    "# キーフレーズの検出\n",
    "response = comprehend.detect_key_phrases(\n",
    "    Text=TEXT,\n",
    "    LanguageCode='ja',\n",
    ")\n",
    "print(response['KeyPhrases'])\n",
    "\n",
    "# 感情の検出\n",
    "response = comprehend.detect_sentiment(\n",
    "    Text=TEXT,\n",
    "    LanguageCode='ja',\n",
    ")\n",
    "print(response['SentimentScore'])\n"
   ]
  },
  {
   "cell_type": "code",
   "execution_count": null,
   "id": "f31133a3",
   "metadata": {},
   "outputs": [],
   "source": []
  }
 ],
 "metadata": {
  "kernelspec": {
   "display_name": "conda_python3",
   "language": "python",
   "name": "conda_python3"
  },
  "language_info": {
   "codemirror_mode": {
    "name": "ipython",
    "version": 3
   },
   "file_extension": ".py",
   "mimetype": "text/x-python",
   "name": "python",
   "nbconvert_exporter": "python",
   "pygments_lexer": "ipython3",
   "version": "3.6.13"
  }
 },
 "nbformat": 4,
 "nbformat_minor": 5
}

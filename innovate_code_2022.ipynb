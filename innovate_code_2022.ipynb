{
 "cells": [
  {
   "cell_type": "code",
   "execution_count": null,
   "id": "b6e11f3b",
   "metadata": {},
   "outputs": [],
   "source": [
    "import sagemaker\n",
    "bucket = sagemaker.session.Session().default_bucket()"
   ]
  },
  {
   "cell_type": "markdown",
   "id": "47965f93",
   "metadata": {},
   "source": [
    "## Amazon Polly"
   ]
  },
  {
   "cell_type": "markdown",
   "id": "5e8a62e0",
   "metadata": {},
   "source": [
    "### synthesize_speech"
   ]
  },
  {
   "cell_type": "code",
   "execution_count": null,
   "id": "d2896f72",
   "metadata": {},
   "outputs": [],
   "source": [
    "import boto3\n",
    "polly = boto3.client('polly')\n",
    "response = polly.synthesize_speech(\n",
    "    # 作成する音声の文\n",
    "    Text = '''\n",
    "    はじめて Amazon Polly で音声を作成しました。\n",
    "    ''',\n",
    "    OutputFormat = \"mp3\", # 出力形式を選択\n",
    "    VoiceId = 'Takumi', # 声を選択\n",
    ")\n",
    "# 音声データをファイルに出力する\n",
    "with open('./first_voice.mp3', \"wb\") as f:\n",
    "    f.write(response['AudioStream'].read())\n"
   ]
  },
  {
   "cell_type": "markdown",
   "id": "fd888a7a",
   "metadata": {},
   "source": [
    "### SSML"
   ]
  },
  {
   "cell_type": "code",
   "execution_count": null,
   "id": "7c5c6bb7",
   "metadata": {},
   "outputs": [],
   "source": [
    "response = polly.synthesize_speech(\n",
    "    Text = '''\n",
    "    <speak>\n",
    "        <amazon:breath duration=\"medium\" volume=\"x-loud\"/>\n",
    "　　　　私は <break time=\"1s\"/>\n",
    "　　　　<emphasis>SSML</emphasis>\n",
    "　　　　で音声を作成しました\n",
    "    </speak>\n",
    "    ''',\n",
    "    OutputFormat = \"mp3\", \n",
    "    TextType='ssml', # SSML であることを明示する\n",
    "    VoiceId = 'Takumi', # 声を選択\n",
    ")\n",
    "with open('./ssml_voice.mp3', \"wb\") as f:\n",
    "    f.write(response['AudioStream'].read())"
   ]
  },
  {
   "cell_type": "markdown",
   "id": "49e0b06c",
   "metadata": {},
   "source": [
    "### Lexicon"
   ]
  },
  {
   "cell_type": "code",
   "execution_count": null,
   "id": "0392cd9d",
   "metadata": {},
   "outputs": [],
   "source": [
    "LEXICON_NAME = 'emacs'\n",
    "CONTENT = '''<?xml version=\"1.0\" encoding=\"UTF-8\"?>\n",
    "<lexicon version=\"1.0\"\n",
    "      xmlns=\"http://www.w3.org/2005/01/pronunciation-lexicon\"\n",
    "      xmlns:xsi=\"http://www.w3.org/2001/XMLSchema-instance\"\n",
    "      xsi:schemaLocation=\"http://www.w3.org/2005/01/pronunciation-lexicon\n",
    "        http://www.w3.org/TR/2007/CR-pronunciation-lexicon-20071212/pls.xsd\"\n",
    "      alphabet=\"ipa\"\n",
    "      xml:lang=\"ja-JP\">\n",
    "  <lexeme><grapheme>テキストエディタ</grapheme><phoneme>ˈiːˌmæks</phoneme></lexeme>\n",
    "</lexicon>'''\n",
    "response = polly.put_lexicon(Content=CONTENT,Name=LEXICON_NAME)"
   ]
  },
  {
   "cell_type": "code",
   "execution_count": null,
   "id": "c619eb35",
   "metadata": {},
   "outputs": [],
   "source": [
    "# polly.delete_lexicon(Name=LEXICON_NAME)"
   ]
  },
  {
   "cell_type": "code",
   "execution_count": null,
   "id": "a332afdb",
   "metadata": {},
   "outputs": [],
   "source": [
    "response = polly.synthesize_speech(\n",
    "    Text = 'テキストエディタを開きましょう',\n",
    "    OutputFormat = \"mp3\",\n",
    "    VoiceId = 'Takumi',\n",
    "    LexiconNames=[LEXICON_NAME]\n",
    ")\n",
    "with open('./emacs.mp3', \"wb\") as f:\n",
    "    f.write(response['AudioStream'].read())\n",
    "\n",
    "response = polly.synthesize_speech(\n",
    "    Text = 'テキストエディタを開きましょう',\n",
    "    OutputFormat = \"mp3\",\n",
    "    VoiceId = 'Takumi',\n",
    ")\n",
    "with open('./text_editor.mp3', \"wb\") as f:\n",
    "    f.write(response['AudioStream'].read())"
   ]
  },
  {
   "cell_type": "markdown",
   "id": "a386f7e2",
   "metadata": {},
   "source": [
    "## Amazon Transcribe"
   ]
  },
  {
   "cell_type": "markdown",
   "id": "d9329ada",
   "metadata": {},
   "source": [
    "### start_transcription_job"
   ]
  },
  {
   "cell_type": "code",
   "execution_count": null,
   "id": "9f9e5764",
   "metadata": {},
   "outputs": [],
   "source": [
    "s3 = boto3.client('s3') # 事前に音声ファイルを S3 にアップロード\n",
    "AUDIO_FILE='emacs.mp3'\n",
    "AUDIO_KEY = f'transcribe/input/{AUDIO_FILE}'\n",
    "s3.upload_file(f'./{AUDIO_FILE}', bucket, AUDIO_KEY)\n",
    "transcribe = boto3.client('transcribe')\n",
    "JOBNAME = 'my_first_transcription_job'\n",
    "OUTPUT_KEY='transcribe/output/'\n",
    "response = transcribe.start_transcription_job(\n",
    "    TranscriptionJobName=JOBNAME,\n",
    "    LanguageCode='ja-JP',\n",
    "    Media={\n",
    "        'MediaFileUri': f's3://{bucket}/{AUDIO_KEY}'\n",
    "    },\n",
    "    OutputBucketName=bucket,\n",
    "    OutputKey=OUTPUT_KEY,\n",
    ")"
   ]
  },
  {
   "cell_type": "code",
   "execution_count": null,
   "id": "549a661c",
   "metadata": {},
   "outputs": [],
   "source": [
    "# transcribe = boto3.client('transcribe')\n",
    "# JOBNAME = 'my_first_transcription_job'\n",
    "# transcribe.delete_transcription_job(TranscriptionJobName=JOBNAME)"
   ]
  },
  {
   "cell_type": "code",
   "execution_count": null,
   "id": "9475c78d",
   "metadata": {},
   "outputs": [],
   "source": [
    "transcript_result_uri = transcribe.get_transcription_job(TranscriptionJobName=JOBNAME)['TranscriptionJob']['Transcript']['TranscriptFileUri']\n",
    "boto3.client('s3').download_file(bucket, f'{OUTPUT_KEY}{JOBNAME}.json', f'./{JOBNAME}.json')\n",
    "with open(f'./{JOBNAME}.json','r') as f:print(f.read())"
   ]
  },
  {
   "cell_type": "markdown",
   "id": "0149a253",
   "metadata": {},
   "source": [
    "### create_vocabulary"
   ]
  },
  {
   "cell_type": "code",
   "execution_count": null,
   "id": "3f94bb30",
   "metadata": {},
   "outputs": [],
   "source": [
    "CUSTOM_VOCABULARY = 'Phrase\\tIPA\\tSoundsLike\\tDisplayAs\\nemacs\\t\\tiimakkusu\\tEmacs'\n",
    "CUSTOM_VOCABULARY_CSV = './custom_vocabulary.txt'\n",
    "with open(CUSTOM_VOCABULARY_CSV,'w') as f:f.write(CUSTOM_VOCABULARY)\n",
    "print(CUSTOM_VOCABULARY)"
   ]
  },
  {
   "cell_type": "code",
   "execution_count": null,
   "id": "e00a7feb",
   "metadata": {},
   "outputs": [],
   "source": [
    "VOCABULARY_NAME = 'emacs'\n",
    "VOCABULARY_KEY = f'transcribe/custom_vocaburary/{CUSTOM_VOCABULARY_CSV}'\n",
    "s3.upload_file(f'./{CUSTOM_VOCABULARY_CSV}', bucket, VOCABULARY_KEY)\n",
    "transcribe.create_vocabulary(\n",
    "    VocabularyName=VOCABULARY_NAME,\n",
    "    LanguageCode='ja-JP',\n",
    "    VocabularyFileUri=f's3://{bucket}/{VOCABULARY_KEY}',\n",
    ")"
   ]
  },
  {
   "cell_type": "code",
   "execution_count": null,
   "id": "eea9beea",
   "metadata": {},
   "outputs": [],
   "source": [
    "# transcribe.delete_vocabulary(VocabularyName=VOCABULARY_NAME)"
   ]
  },
  {
   "cell_type": "code",
   "execution_count": null,
   "id": "11a41b30",
   "metadata": {
    "scrolled": true
   },
   "outputs": [],
   "source": [
    "transcribe = boto3.client('transcribe')\n",
    "JOBNAME = 'custom_vocabulary_transcription_job'\n",
    "transcribe.delete_transcription_job(TranscriptionJobName=JOBNAME)"
   ]
  },
  {
   "cell_type": "code",
   "execution_count": null,
   "id": "e7ded187",
   "metadata": {},
   "outputs": [],
   "source": [
    "JOBNAME = 'custom_vocabulary_transcription_job'\n",
    "response = transcribe.start_transcription_job(\n",
    "    TranscriptionJobName=JOBNAME,\n",
    "    LanguageCode='ja-JP',\n",
    "    Settings={'VocabularyName': VOCABULARY_NAME},\n",
    "    Media={\n",
    "        'MediaFileUri': f's3://{bucket}/{AUDIO_KEY}'\n",
    "    },\n",
    "    OutputBucketName=bucket,\n",
    "    OutputKey=OUTPUT_KEY,\n",
    ")"
   ]
  },
  {
   "cell_type": "code",
   "execution_count": null,
   "id": "468ffbfa",
   "metadata": {},
   "outputs": [],
   "source": [
    "transcript_result_uri = transcribe.get_transcription_job(TranscriptionJobName=JOBNAME)['TranscriptionJob']['Transcript']['TranscriptFileUri']\n",
    "boto3.client('s3').download_file(bucket, f'{OUTPUT_KEY}{JOBNAME}.json', f'./{JOBNAME}.json')\n",
    "with open(f'./{JOBNAME}.json','r') as f:print(f.read())"
   ]
  },
  {
   "cell_type": "markdown",
   "id": "22181a12",
   "metadata": {},
   "source": [
    "## Amazon Translate"
   ]
  },
  {
   "cell_type": "markdown",
   "id": "88d1fc6f",
   "metadata": {},
   "source": [
    "### translate_text"
   ]
  },
  {
   "cell_type": "code",
   "execution_count": null,
   "id": "a49168f0",
   "metadata": {},
   "outputs": [],
   "source": [
    "translate = boto3.client('translate')\n",
    "response = translate.translate_text(\n",
    "    # 翻訳させたい文字列\n",
    "    Text='I use white vaseline daily to protect my skin.',\n",
    "    # 翻訳元の言語\n",
    "    SourceLanguageCode='en',\n",
    "    # 翻訳したい言語\n",
    "    TargetLanguageCode='ja',\n",
    "    Settings={\n",
    "        'Profanity': 'MASK'\n",
    "    }\n",
    ")\n",
    "print(response['TranslatedText'])\n"
   ]
  },
  {
   "cell_type": "markdown",
   "id": "b493b064",
   "metadata": {},
   "source": [
    "### import_terminologies"
   ]
  },
  {
   "cell_type": "code",
   "execution_count": null,
   "id": "e8d4cf06",
   "metadata": {},
   "outputs": [],
   "source": [
    "TERMINOLOGIES = 'en,ja\\nwhite vaseline,白色ワセリン'.encode()\n",
    "TERMINOLOGIES_NAME = 'white_vaseline'\n",
    "translate.import_terminology(\n",
    "    Name=TERMINOLOGIES_NAME,\n",
    "    MergeStrategy='OVERWRITE',\n",
    "    TerminologyData={\n",
    "        'File': TERMINOLOGIES,\n",
    "        'Format': 'CSV',\n",
    "    }\n",
    ")\n",
    "response = translate.translate_text(\n",
    "    Text='I use white vaseline daily to protect my skin.',\n",
    "    # terminology の指定\n",
    "    TerminologyNames=[TERMINOLOGIES_NAME],\n",
    "    SourceLanguageCode='en',\n",
    "    TargetLanguageCode='ja',\n",
    ")\n",
    "print(response['TranslatedText'])"
   ]
  },
  {
   "cell_type": "markdown",
   "id": "a5c52d2f",
   "metadata": {},
   "source": [
    "## Amazon Comprehend"
   ]
  },
  {
   "cell_type": "markdown",
   "id": "7f899ec7",
   "metadata": {},
   "source": [
    "### detect_dominant_language"
   ]
  },
  {
   "cell_type": "code",
   "execution_count": null,
   "id": "ef4551e1",
   "metadata": {},
   "outputs": [],
   "source": [
    "comprehend = boto3.client('comprehend')\n",
    "TEXT = 'Toutes les grandes personnes ont d’abord été des enfants, mais peu d’entre elles s’en souviennent.'\n",
    "response = translate.translate_text(\n",
    "    Text=TEXT,\n",
    "    SourceLanguageCode=comprehend.detect_dominant_language(Text=TEXT)['Languages'][0]['LanguageCode'],\n",
    "    TargetLanguageCode='ja',\n",
    ")\n",
    "print(response['TranslatedText'])"
   ]
  },
  {
   "cell_type": "markdown",
   "id": "0c7cfc61",
   "metadata": {},
   "source": [
    "### detect_entities"
   ]
  },
  {
   "cell_type": "code",
   "execution_count": null,
   "id": "1d0d9b88",
   "metadata": {},
   "outputs": [],
   "source": []
  }
 ],
 "metadata": {
  "kernelspec": {
   "display_name": "conda_python3",
   "language": "python",
   "name": "conda_python3"
  },
  "language_info": {
   "codemirror_mode": {
    "name": "ipython",
    "version": 3
   },
   "file_extension": ".py",
   "mimetype": "text/x-python",
   "name": "python",
   "nbconvert_exporter": "python",
   "pygments_lexer": "ipython3",
   "version": "3.6.13"
  }
 },
 "nbformat": 4,
 "nbformat_minor": 5
}
